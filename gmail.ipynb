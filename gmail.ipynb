{
 "cells": [
  {
   "cell_type": "code",
   "execution_count": 11,
   "metadata": {},
   "outputs": [],
   "source": [
    "from langchain.llms import OpenAI\n",
    "import os\n",
    "from dotenv import load_dotenv\n",
    "from pdfminer.high_level import extract_text\n",
    "import re\n",
    "from pdfminer.high_level import extract_text\n",
    "from input import job_title,job_description,Company_Name\n",
    "env_path = 'Config.env'\n",
    "load_dotenv(dotenv_path=env_path)\n",
    "\n",
    "Resume_path= \"C:/Users/hrith.DESKTOP-75K32P0/OneDrive/Documents/Hrithik_Files_Desktop/FT_Resumes_NEU/Hrithik_Resume_Data_Engineer.pdf\"\n",
    "\n",
    "# Set up OpenAI LLM\n",
    "openai_api_key = os.getenv('OPENAI_API_KEY')  # Store your API key in environment variable\n",
    "gemini_api_key=os.getenv('GEMINI_API_KEY')\n"
   ]
  },
  {
   "cell_type": "code",
   "execution_count": 20,
   "metadata": {},
   "outputs": [],
   "source": [
    "\n",
    "def extract_resume_text(pdf_path):\n",
    "    return extract_text(pdf_path)\n",
    "\n",
    "resume_text = extract_resume_text(Resume_path)\n",
    "\n",
    "\n",
    "def remove_date_ranges(text):\n",
    "    # Regex pattern for date ranges (e.g., \"Sep 2021 - Dec 2021\" or \"Sep 2021 to Dec 2021\")\n",
    "    date_pattern = r\"\\b(?:Jan(?:uary)?|Feb(?:ruary)?|Mar(?:ch)?|Apr(?:il)?|May|Jun(?:e)?|Jul(?:y)?|Aug(?:ust)?|Sep(?:tember)?|Oct(?:ober)?|Nov(?:ember)?|Dec(?:ember)?)\\s+\\d{4}\\s*(?:-|to)\\s*(?:Jan(?:uary)?|Feb(?:ruary)?|Mar(?:ch)?|Apr(?:il)?|May|Jun(?:e)?|Jul(?:y)?|Aug(?:ust)?|Sep(?:tember)?|Oct(?:ober)?|Nov(?:ember)?|Dec(?:ember)?)\\s+\\d{4}\"\n",
    "    \n",
    "    # Remove date ranges\n",
    "    return re.sub(date_pattern, \"\", text)\n",
    "\n",
    "def extract_resume_sections(pdf_path):\n",
    "    # Extract text from PDF\n",
    "    full_text = extract_text(pdf_path)\n",
    "\n",
    "    # Remove date ranges from the text\n",
    "    full_text = remove_date_ranges(full_text)\n",
    "\n",
    "    # Use regex patterns to identify sections\n",
    "    education_pattern = r\"(Education\\s*[\\s\\S]+?)(?=(Skills|Work Experience|Projects|$))\"\n",
    "    skills_pattern = r\"(Skills\\s*[\\s\\S]+?)(?=(Education|Work Experience|Projects|$))\"\n",
    "    work_experience_pattern = r\"(Work Experience\\s*[\\s\\S]+?)(?=(Education|Skills|Projects|$))\"\n",
    "    projects_pattern = r\"(Projects\\s*[\\s\\S]+?)(?=(Education|Skills|Work Experience|$))\"\n",
    "\n",
    "    # Find matches using regex\n",
    "    education = re.search(education_pattern, full_text, re.IGNORECASE)\n",
    "    skills = re.search(skills_pattern, full_text, re.IGNORECASE)\n",
    "    work_experience = re.search(work_experience_pattern, full_text, re.IGNORECASE)\n",
    "    projects = re.search(projects_pattern, full_text, re.IGNORECASE)\n",
    "\n",
    "    # Extract text if matches are found\n",
    "    education_text = education.group(1).strip() if education else \"Education section not found\"\n",
    "    skills_text = skills.group(1).strip() if skills else \"Skills section not found\"\n",
    "    work_experience_text = work_experience.group(1).strip() if work_experience else \"Work Experience section not found\"\n",
    "    projects_text = projects.group(1).strip() if projects else \"Projects section not found\"\n",
    "\n",
    "    return {\n",
    "        \"Education\": education_text,\n",
    "        \"Skills\": skills_text,\n",
    "        \"Work Experience\": work_experience_text,\n",
    "        \"Projects\": projects_text\n",
    "    }\n",
    "\n",
    "resume_sections = extract_resume_sections(Resume_path)\n",
    "\n",
    "def create_email_prompt(resume_sections,job_title,company_name,job_description):\n",
    "    education = resume_sections[\"Education\"]\n",
    "    work_experience = resume_sections[\"Work Experience\"]\n",
    "    projects = resume_sections[\"Projects\"]\n",
    "    skills = resume_sections[\"Skills\"]\n",
    "\n",
    "    prompt = (\n",
    "        f\"You are a professional in email writing and technically strong when it comes to writing emails on behalf \"\n",
    "        f\"of aspiring Data Engineers, Data Scientists, Data Analysts, and Machine Learning Engineers to Hiring Companies. \"\n",
    "        f\"Write a professional and appealing email for Hiring Managers and Technical Recruiters for my job application. \"\n",
    "        f\"The job title I am applying for is {job_title} at {company_name}.\\n\\n\"\n",
    "        f\"The job description is as follows:\\n{job_description}\\n\\n\"\n",
    "        f\"My Professional Profile / Resume is divided into 4 sections:\\n\\n\"\n",
    "        f\"My Education is as follows: {resume_sections['Education']}.\\n\\n\"\n",
    "        f\"The Work Experience is as follows: {resume_sections['Work Experience']}.\\n\\n\"\n",
    "        f\"My Personal and academic Projects are as follows: {resume_sections['Projects']}.\\n\\n\"\n",
    "        f\"My Skills are as follows: {resume_sections['Skills']}.\\n\\n\"\n",
    "        f\"The email should include a subject line and a body. The tone should be polite and professional, \"\n",
    "        f\"and the email should request consideration as an eligible candidate, highlighting how my skills and experience align \"\n",
    "        f\"with the job requirements.\"\n",
    "    )\n",
    "\n",
    "    return prompt\n",
    "\n",
    "\n",
    "def write_response_to_file(response, file_path):\n",
    "    with open(file_path, 'w') as file:\n",
    "        file.write(response)\n"
   ]
  },
  {
   "cell_type": "code",
   "execution_count": 62,
   "metadata": {},
   "outputs": [],
   "source": [
    "openai_api_key = os.getenv('OPENAI_API_KEY')  # Store your API key in environment variable\n",
    "llm = OpenAI(model_name=\"gpt-3.5-turbo\", api_key=openai_api_key)\n",
    "def generate_email(resume_sections):\n",
    "    prompt = create_profile_email_prompt(resume_sections)\n",
    "    email_response = llm(prompt)\n",
    "    #print(email_response)\n",
    "    return email_response"
   ]
  },
  {
   "cell_type": "code",
   "execution_count": 18,
   "metadata": {},
   "outputs": [],
   "source": [
    "import google.generativeai as genai\n",
    "import os\n",
    "\n",
    "genai.configure(api_key=gemini_api_key)\n",
    "\n",
    "model = genai.GenerativeModel('gemini-1.5-flash')\n",
    "prompt = create_email_prompt(resume_sections,job_title,Company_Name,job_description)\n",
    "response = model.generate_content(prompt)"
   ]
  },
  {
   "cell_type": "code",
   "execution_count": 21,
   "metadata": {},
   "outputs": [],
   "source": [
    "write_response_to_file(response.text, 'Email_Response.txt')"
   ]
  },
  {
   "cell_type": "code",
   "execution_count": 19,
   "metadata": {},
   "outputs": [
    {
     "data": {
      "text/plain": [
       "\"## Subject: Data Engineer Application - [Your Name] - Eager to Contribute at Relanto\\n\\nDear [Hiring Manager Name],\\n\\nI am writing to express my keen interest in the Data Engineer position at Relanto, as advertised on [platform where you found the job posting]. With my proven experience in designing, developing, and optimizing data systems and pipelines, coupled with my strong foundation in SQL, data modeling, and cloud-based data platforms, I believe I possess the skills and expertise to make a significant contribution to your team.\\n\\nMy background in Data Engineering, as demonstrated in my resume, showcases a diverse range of accomplishments. At [Previous Company], I implemented an ETL pipeline to replicate data from SQL Server to Snowflake, enabling the BI team to build an audience sizing tool for marketing campaigns. I also developed an optimized geo-location matching algorithm, reducing processing time by 70%. \\n\\nFurthermore, my academic projects, such as the Early Sepsis Prediction ML Pipeline and Melanoma Detection, highlight my ability to develop and deploy robust data pipelines, including model training, evaluation, and deployment using tools like Apache Airflow, MLflow, and GCP. \\n\\nI am particularly excited about Relanto's [mention something specific about the company or its work that resonates with you]. My passion for data engineering and my eagerness to learn and integrate new technologies make me a strong candidate for this role.\\n\\nI am confident that my skills and experience align perfectly with the requirements outlined in the job description. I am available for an interview at your earliest convenience and eager to discuss how my contributions can help Relanto achieve its goals. \\n\\nThank you for your time and consideration.\\n\\nSincerely,\\n\\n[Your Name]\\n\\n[Your Phone Number]\\n\\n[Your Email Address]\\n\\n[Your LinkedIn Profile URL (optional)] \\n\""
      ]
     },
     "execution_count": 19,
     "metadata": {},
     "output_type": "execute_result"
    }
   ],
   "source": [
    "response.text"
   ]
  },
  {
   "cell_type": "code",
   "execution_count": 9,
   "metadata": {},
   "outputs": [],
   "source": [
    "response2= model.generate_content('Rephrase the previous response with my name as hrithik Sarda, Job title as Data Engineer and Company Name as Bright Horizons and Hiring Manager as Mr. Puru Ethirajan')"
   ]
  },
  {
   "cell_type": "code",
   "execution_count": 10,
   "metadata": {},
   "outputs": [
    {
     "data": {
      "text/plain": [
       "'Please provide me with the previous response so I can rephrase it with the information you provided. I need the original text to accurately incorporate your name, job title, company, and hiring manager. \\n'"
      ]
     },
     "execution_count": 10,
     "metadata": {},
     "output_type": "execute_result"
    }
   ],
   "source": [
    "response2.text"
   ]
  }
 ],
 "metadata": {
  "kernelspec": {
   "display_name": "Python 3",
   "language": "python",
   "name": "python3"
  },
  "language_info": {
   "codemirror_mode": {
    "name": "ipython",
    "version": 3
   },
   "file_extension": ".py",
   "mimetype": "text/x-python",
   "name": "python",
   "nbconvert_exporter": "python",
   "pygments_lexer": "ipython3",
   "version": "3.10.11"
  }
 },
 "nbformat": 4,
 "nbformat_minor": 2
}
